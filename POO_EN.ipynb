{
 "cells": [
  {
   "attachments": {},
   "cell_type": "markdown",
   "metadata": {},
   "source": [
    "# Object Oriented Programming"
   ]
  },
  {
   "attachments": {},
   "cell_type": "markdown",
   "metadata": {},
   "source": [
    "--------\n",
    "\n",
    "# What is Object Oriented Programming?"
   ]
  },
  {
   "attachments": {},
   "cell_type": "markdown",
   "metadata": {},
   "source": [
    "- **Programming paradigm that organizes code around objects:**\n",
    "Where we represent real-world entities like cars, buildings, animals and other various options within lines of code so that they are classified by object definitions. Using concepts to improve organization and maintenance.\n",
    "\n",
    "- **Objects that are entities that have state (data):** Like real world objects that have characteristics within object orientation we can represent using attributes.\n",
    "\n",
    "- **It also has behavior (methods):** In object orientation, it does not leave out the functionalities of entities (object) in the real world. We can represent through definitions of functions that represent the behavior of objects.\n",
    "\n",
    "![IMAGE](OOP.png)"
   ]
  },
  {
   "attachments": {},
   "cell_type": "markdown",
   "metadata": {},
   "source": [
    "-----------\n",
    "\n",
    "# What are the advantages and disadvantages of OOP?"
   ]
  },
  {
   "attachments": {},
   "cell_type": "markdown",
   "metadata": {},
   "source": [
    "### Benefits:"
   ]
  },
  {
   "attachments": {},
   "cell_type": "markdown",
   "metadata": {},
   "source": [
    "**Code reuse**\n",
    "\n",
    "There will be no need to create each class for different objects, which have the same attributes. Like the car class, I won't need to create a class (lines of code) for each car model. As an example let's think that there is a factory called \"OO Car\", this factory produces two types of car \"OO Turbo\" and \"OO 4x4\". You agree with me that these cars have a factory, 4 wheels, 1 engine, color, ..... and several other parts. We won't go into all the details. But imagine you as a programmer, defining a class for each car and most of the time they will have the same details. Being in this context the company \"OO Car\", develops a new car. Again you will have to create a class with the same characteristics as the previous cars. So you will be creating a huge duplicity without having to. This is where object orientation comes in. We define only one class so that we can reuse it for different cars.\n",
    "\n",
    "**Wrong**\n",
    "\n",
    "```python\n",
    "\n",
    "\n",
    "class Car_OO_Turbo():\n",
    "\n",
    "     def __init__(self, model, engine, color):\n",
    "         self.model = model\n",
    "         self.engine = engine\n",
    "         self.color = color\n",
    "\n",
    "class Car_OO_4x4():\n",
    "    \n",
    "     def __init__(self, model, engine, color):\n",
    "         self.model = model\n",
    "         self.engine = engine\n",
    "         self.color = color\n",
    "\n",
    "```\n",
    "\n",
    "**Correct**\n",
    "\n",
    "```python\n",
    "\n",
    "\n",
    "class Car():\n",
    "\n",
    "     def __init__(self, model, engine, color):\n",
    "         self.model = model\n",
    "         self.engine = engine\n",
    "         self.color = color\n",
    "\n",
    "```"
   ]
  },
  {
   "attachments": {},
   "cell_type": "markdown",
   "metadata": {},
   "source": [
    "**Ease of maintenance**\n",
    "\n",
    "Object orientation makes it easy to make changes within the code, making maintenance within classes isolated from external code, avoiding problems. In addition to bringing focus to the problem where it is occurring."
   ]
  },
  {
   "attachments": {},
   "cell_type": "markdown",
   "metadata": {},
   "source": [
    "### Disadvantages:"
   ]
  },
  {
   "attachments": {},
   "cell_type": "markdown",
   "metadata": {},
   "source": [
    "**Complexity**\n",
    "\n",
    "But not everything is an advantage as the code develops, we can come across huge class declarations, increasingly complex with attributes and methods. Relationships between classes, thus several related classes, which may affect maintenance.\n",
    "\n",
    "**Debugging Difficulty**\n",
    "\n",
    "More and more classes with inheritance, polymorphism, association and other patterns. They are more related to each other. This makes it difficult to look for problems and errors that the code presents. Taking more time to debug code."
   ]
  },
  {
   "attachments": {},
   "cell_type": "markdown",
   "metadata": {},
   "source": [
    "----------\n",
    "\n",
    "# Concepts"
   ]
  },
  {
   "attachments": {},
   "cell_type": "markdown",
   "metadata": {},
   "source": [
    "-----\n",
    "\n",
    "### Object\n",
    "\n",
    "The object is defined as an entity so that we can represent something from the real world. For example:\n",
    "\n",
    "- Car\n",
    "- Address\n",
    "- Home\n",
    "- Food\n",
    "- Plane\n",
    "\n",
    "Only that object was not defined because of a label being a car or a house. Object has characteristics (Attributes) and processes (methods). So when we intend to represent an object within the OOP, we add these specifications so that its representation is comprehensive within the system to be developed.\n",
    "\n",
    "![OOP_2](./OOP_2.png)"
   ]
  },
  {
   "attachments": {},
   "cell_type": "markdown",
   "metadata": {},
   "source": [
    "-----\n",
    "\n",
    "### Class\n",
    "\n",
    "Class is intended to be a template, or a mold of how we want to design a real-world object within our project. With the class we avoid creating several objects, using a class to represent different objects and their characteristics are different, in the following steps this form of representation will become clearer.\n",
    "\n",
    "Examples\n",
    "- Car Class\n",
    "- Customer class\n",
    "- Book Class\n",
    "\n",
    "Having only one class, we can define its attributes and methods."
   ]
  },
  {
   "attachments": {},
   "cell_type": "markdown",
   "metadata": {},
   "source": [
    "Using the Python language we can create a class like the example below."
   ]
  },
  {
   "cell_type": "code",
   "execution_count": 1,
   "metadata": {},
   "outputs": [],
   "source": [
    "class Car:\n",
    "    ..."
   ]
  },
  {
   "cell_type": "code",
   "execution_count": 2,
   "metadata": {},
   "outputs": [],
   "source": [
    "class Client:\n",
    "    ..."
   ]
  },
  {
   "cell_type": "code",
   "execution_count": 3,
   "metadata": {},
   "outputs": [],
   "source": [
    "class Book:\n",
    "    ..."
   ]
  },
  {
   "attachments": {},
   "cell_type": "markdown",
   "metadata": {},
   "source": [
    "-----\n",
    "\n",
    "### Attributes"
   ]
  },
  {
   "attachments": {},
   "cell_type": "markdown",
   "metadata": {},
   "source": [
    "Attributes are the characteristics of the object, using a restaurant as an example, the ordered object can be represented as a class. After its definition, we add the characteristics (Attributes) of the request to the class. Like the customer's name, chosen snack, point of meat, etc. You can observe in large fast-foods examples of order objects, when you choose, pay and wait to take the order you receive the receipt which in this case is your order with your name and another copy goes to the kitchen to be prepared with the characteristics of the your request. In some you don't even need receipt paper anymore. There is a monitor with your order inside the kitchen and another one outside with the order in which the orders are prepared."
   ]
  },
  {
   "attachments": {},
   "cell_type": "markdown",
   "metadata": {},
   "source": [
    "- **\"\\_\\_init__()\"**: This method has a constructor definition within the Python language class, in this method where we will define class attributes.\n",
    "\n",
    "- **\"self\"**: This parameter has its definition as a convention to be used by the internal methods of the class that we will see in the next step. Where we won't have the need to pass a parameter of the class to each method of the class. Where once the class is instantiated and **self** is defined inside the inner function. The use of attributes can be used."
   ]
  },
  {
   "cell_type": "code",
   "execution_count": 4,
   "metadata": {},
   "outputs": [],
   "source": [
    "class Order:\n",
    "    \n",
    "     def __init__(\n",
    "         self,\n",
    "         customer_name: str,\n",
    "         snack: str,\n",
    "         meat_stitch: str,\n",
    "         soda: bool,\n",
    "         potato: bool,\n",
    "     ):\n",
    "         self.customer_name = customer_name\n",
    "         self.snack = snack\n",
    "         self.meat_point = meat_stitch\n",
    "         self.soda = soda\n",
    "         self.potato = potato"
   ]
  },
  {
   "cell_type": "code",
   "execution_count": 5,
   "metadata": {},
   "outputs": [],
   "source": [
    "order1 = Order('Severius', 'X-Bacon','To the point', False, False)"
   ]
  },
  {
   "cell_type": "code",
   "execution_count": 6,
   "metadata": {},
   "outputs": [
    {
     "name": "stdout",
     "output_type": "stream",
     "text": [
      "Customer name: Severius\n",
      "Snack Chosen: X-Bacon\n",
      "Meat point: To the point\n",
      "Ordered soda: False\n",
      "Ordered Potato: False\n",
      "\n"
     ]
    }
   ],
   "source": [
    "print(\n",
    "     f'Customer name: {order1.customer_name}\\n'\n",
    "     f'Snack Chosen: {order1.snack}\\n'\n",
    "     f'Meat point: {order1.meat_point}\\n'\n",
    "     f'Ordered soda: {order1.soda}\\n'\n",
    "     f'Ordered Potato: {order1.potato}\\n'\n",
    ")"
   ]
  },
  {
   "cell_type": "code",
   "execution_count": 7,
   "metadata": {},
   "outputs": [],
   "source": [
    "order2 = Order('Kratos', 'X-Fish','To the point', True, True)"
   ]
  },
  {
   "cell_type": "code",
   "execution_count": 8,
   "metadata": {},
   "outputs": [
    {
     "name": "stdout",
     "output_type": "stream",
     "text": [
      "Customer name: Kratos\n",
      "Snack Chosen: X-Fish\n",
      "Meat point: To the point\n",
      "Ordered soda: True\n",
      "Ordered Potato: True\n",
      "\n"
     ]
    }
   ],
   "source": [
    "print(\n",
    "     f'Customer name: {order2.customer_name}\\n'\n",
    "     f'Snack Chosen: {order2.snack}\\n'\n",
    "     f'Meat point: {order2.meat_point}\\n'\n",
    "     f'Ordered soda: {order2.soda}\\n'\n",
    "     f'Ordered Potato: {order2.potato}\\n'\n",
    ")"
   ]
  },
  {
   "attachments": {},
   "cell_type": "markdown",
   "metadata": {},
   "source": [
    "-----\n",
    "\n",
    "### Methods\n",
    "\n",
    "Methods are functions that we represent of objects within classes. Using the car as an example, we can define functions such as turning on the engine, turning off the engines, turning on the headlights, turning off the headlights, activating the alarm, deactivating the alarm, moving, stopping, opening doors ........ and thousands of other functions that the car can have. If you are familiar with Python. We define a method within the class by writing an internal function of the class, which will remain only within its scope. Nothing outside the class will have access, unless we instantiate an object."
   ]
  },
  {
   "cell_type": "code",
   "execution_count": 9,
   "metadata": {},
   "outputs": [],
   "source": [
    "class Car:\n",
    "    \n",
    "    def __init__(self, model):\n",
    "        self.model = model\n",
    "    \n",
    "    def turn_on_car(self):\n",
    "        return 'Car On'\n",
    "    \n",
    "    def turn_off_car(self):\n",
    "        return 'Car off'"
   ]
  },
  {
   "cell_type": "code",
   "execution_count": 10,
   "metadata": {},
   "outputs": [],
   "source": [
    "car = Car('Ferrari')"
   ]
  },
  {
   "cell_type": "code",
   "execution_count": 11,
   "metadata": {},
   "outputs": [
    {
     "data": {
      "text/plain": [
       "'Car On'"
      ]
     },
     "execution_count": 11,
     "metadata": {},
     "output_type": "execute_result"
    }
   ],
   "source": [
    "car.turn_on_car()"
   ]
  },
  {
   "cell_type": "code",
   "execution_count": 12,
   "metadata": {},
   "outputs": [
    {
     "data": {
      "text/plain": [
       "'Car off'"
      ]
     },
     "execution_count": 12,
     "metadata": {},
     "output_type": "execute_result"
    }
   ],
   "source": [
    "car.turn_off_car()"
   ]
  },
  {
   "attachments": {},
   "cell_type": "markdown",
   "metadata": {},
   "source": [
    "-----\n",
    "\n",
    "### Attribute visibility\n",
    "\n",
    "Attribute visibility brings an option within the Python language for sharing class functionality. That can happen externally or internally. Not always when we are going to develop software will we need to use external attributes or methods, so that other parts of the code do not have external access to the class and only internally protecting attributes and methods. In Python language there are 3 public, protected, private. But they have their language peculiarities where there are some differences from other programming languages."
   ]
  },
  {
   "attachments": {},
   "cell_type": "markdown",
   "metadata": {},
   "source": [
    "**Public**"
   ]
  },
  {
   "attachments": {},
   "cell_type": "markdown",
   "metadata": {},
   "source": [
    "One of the access modifiers that the Python language has. It's **public** , it allows access to attributes and methods anywhere in the code without restrictions."
   ]
  },
  {
   "cell_type": "code",
   "execution_count": 13,
   "metadata": {},
   "outputs": [],
   "source": [
    "class House:\n",
    "    def __init__(self, color):\n",
    "        self.color = color"
   ]
  },
  {
   "cell_type": "code",
   "execution_count": 14,
   "metadata": {},
   "outputs": [],
   "source": [
    "house_public = House('Blue public')"
   ]
  },
  {
   "cell_type": "code",
   "execution_count": 15,
   "metadata": {},
   "outputs": [
    {
     "name": "stdout",
     "output_type": "stream",
     "text": [
      "Blue public\n"
     ]
    }
   ],
   "source": [
    "print(house_public.color)"
   ]
  },
  {
   "attachments": {},
   "cell_type": "markdown",
   "metadata": {},
   "source": [
    "**Protected**"
   ]
  },
  {
   "attachments": {},
   "cell_type": "markdown",
   "metadata": {},
   "source": [
    "The **protected** access modifier does not have the same function as in the Java language, it exists by convention or standard in the Python language. It is represented as **\" _ \"**. To declare in the Python language we add it as a prefix to the attribute or method. But it doesn't mean it's protected, it works as a convention among developers. In a way that indicates the access of attributes and methods, only in subclasses."
   ]
  },
  {
   "cell_type": "code",
   "execution_count": 16,
   "metadata": {},
   "outputs": [],
   "source": [
    "class House:\n",
    "    def __init__(self, color):\n",
    "        self._color = color\n",
    "        \n",
    "    def print_color(self):\n",
    "        print(f'Color this house is {self._color}')"
   ]
  },
  {
   "cell_type": "code",
   "execution_count": 17,
   "metadata": {},
   "outputs": [
    {
     "name": "stdout",
     "output_type": "stream",
     "text": [
      "Blue protected\n",
      "Color this house is Blue protected\n",
      "None\n"
     ]
    }
   ],
   "source": [
    "house_protected = House('Blue protected')\n",
    "print(house_protected._color)\n",
    "print(house_protected.print_color())"
   ]
  },
  {
   "attachments": {},
   "cell_type": "markdown",
   "metadata": {},
   "source": [
    "**Private**"
   ]
  },
  {
   "attachments": {},
   "cell_type": "markdown",
   "metadata": {},
   "source": [
    "Now we have **private** it also works as a Python language convention. It is represented as **\" __ \"**. To declare in the Python language we add it as a prefix to the attribute or method. But it doesn't mean it's private, it works as a convention between developers. In a way that indicates the access of attributes and methods, only in the class where it was defined."
   ]
  },
  {
   "cell_type": "code",
   "execution_count": 18,
   "metadata": {},
   "outputs": [],
   "source": [
    "class House:\n",
    "    def __init__(self, color):\n",
    "        self.__color = color\n",
    "        \n",
    "    def print_color(self):\n",
    "        print(f'Color this house is {self.__color}')"
   ]
  },
  {
   "attachments": {},
   "cell_type": "markdown",
   "metadata": {},
   "source": [
    "But because an error occurred when **private** is also a convention. This is because when we declare the attribute with **\" __ \"**, the language understands that we are using a private attribute and performs a transformation on its name. Called \"name mangling\", it adds a **\" _ \"** prefix, making it accessible only within the class, but not private as in the Java language."
   ]
  },
  {
   "cell_type": "code",
   "execution_count": 19,
   "metadata": {},
   "outputs": [
    {
     "name": "stdout",
     "output_type": "stream",
     "text": [
      "'House' object has no attribute '__color'\n"
     ]
    }
   ],
   "source": [
    "try:\n",
    "    house_private = House('Blue private')\n",
    "    print(house_private.__color)\n",
    "    print(house_private.print_color())\n",
    "except Exception as e:\n",
    "    print(e)"
   ]
  },
  {
   "attachments": {},
   "cell_type": "markdown",
   "metadata": {},
   "source": [
    "To access the modified name, you would have to pass in the same way that name mangling is returning."
   ]
  },
  {
   "cell_type": "code",
   "execution_count": 20,
   "metadata": {},
   "outputs": [],
   "source": [
    "class House:\n",
    "    def __init__(self, color):\n",
    "        self.__color = color\n",
    "        \n",
    "    def print_color(self):\n",
    "        print(f'Color this house is {self.__color}')"
   ]
  },
  {
   "cell_type": "code",
   "execution_count": 21,
   "metadata": {},
   "outputs": [
    {
     "name": "stdout",
     "output_type": "stream",
     "text": [
      "Blue private\n",
      "Color this house is Blue private\n",
      "None\n"
     ]
    }
   ],
   "source": [
    "try:\n",
    "    house_private = House('Blue private')\n",
    "    print(house_private._House__color)\n",
    "    print(house_private.print_color())\n",
    "except Exception as e:\n",
    "    print(e)"
   ]
  },
  {
   "attachments": {},
   "cell_type": "markdown",
   "metadata": {},
   "source": [
    "-----\n",
    "\n",
    "### Encapsulation\n",
    "\n",
    "As one of the main foundations of OOP, encapsulation aims to ensure the integrity of the class's internal attributes and methods. In addition to improving code maintenance because necessary changes are only internal to the class, bringing a controlled environment that changes do not affect the external code."
   ]
  },
  {
   "attachments": {},
   "cell_type": "markdown",
   "metadata": {},
   "source": [
    "**wrong**\n",
    "\n",
    "At this stage it doesn't mean that it is wrong, but as we are declaring a private attribute. We don't want to use \"name mangling\", and be able to use encapsulation."
   ]
  },
  {
   "cell_type": "code",
   "execution_count": 22,
   "metadata": {},
   "outputs": [],
   "source": [
    "class Car:\n",
    "    def __init__(self, model, motor):\n",
    "        self.model = model\n",
    "        self.__motor = motor\n"
   ]
  },
  {
   "cell_type": "code",
   "execution_count": 23,
   "metadata": {},
   "outputs": [],
   "source": [
    "car = Car('Ferrari', 'V8')"
   ]
  },
  {
   "cell_type": "code",
   "execution_count": 24,
   "metadata": {},
   "outputs": [
    {
     "name": "stdout",
     "output_type": "stream",
     "text": [
      "'Car' object has no attribute 'motor'\n"
     ]
    }
   ],
   "source": [
    "try:\n",
    "    print(\n",
    "        car.model,\n",
    "        car.motor,\n",
    "    )\n",
    "except Exception as e:\n",
    "    print(e)"
   ]
  },
  {
   "attachments": {},
   "cell_type": "markdown",
   "metadata": {},
   "source": [
    "**correct**\n",
    "\n",
    "The getters and setters are controlled and also safe methods so that we can access (get) and also modify (set) the data that will be assigned in a class.\n",
    "\n",
    "- Getter: Returns the assigned value. Without having to deal directly with the class attribute. Creating a layer of protection. In this example I will be using a decorator called **@property**. This decorator allows the defined method to have access to the attribute.\n",
    "\n",
    "- Setter: Changes the assigned value. Its principle is to define a new value for the attribute. In this example I will be using a decorator called **@setter**. This decorator allows the defined method to modify the attribute."
   ]
  },
  {
   "cell_type": "code",
   "execution_count": 25,
   "metadata": {},
   "outputs": [],
   "source": [
    "class Car:\n",
    "    def __init__(self, model, motor):\n",
    "        self.model = model\n",
    "        self.__motor = motor\n",
    "    \n",
    "    #Getter\n",
    "    @property\n",
    "    def motor(self):\n",
    "        return self.__motor\n",
    "    \n",
    "    #Setter\n",
    "    @motor.setter\n",
    "    def motor(self, motor):\n",
    "        self.__motor = motor\n",
    "        "
   ]
  },
  {
   "cell_type": "code",
   "execution_count": 26,
   "metadata": {},
   "outputs": [],
   "source": [
    "car = Car('Ferrari', 'V8')"
   ]
  },
  {
   "cell_type": "code",
   "execution_count": 27,
   "metadata": {},
   "outputs": [
    {
     "name": "stdout",
     "output_type": "stream",
     "text": [
      "Ferrari V8\n"
     ]
    }
   ],
   "source": [
    "print(\n",
    "        car.model,\n",
    "        car.motor,\n",
    "    )"
   ]
  },
  {
   "attachments": {},
   "cell_type": "markdown",
   "metadata": {},
   "source": [
    "-----\n",
    "\n",
    "### Method Overloading\n",
    "\n",
    "Method overloading will bring the possibility within the class to create several functions (methods) for the same class. Not having the need to create a new class for different functionalities. But in Python language, it doesn't support overloading like in other languages. Below I create a class as an example. But notice that the error is caught showing that an argument is missing. Because the next method overwrites the previous one."
   ]
  },
  {
   "cell_type": "code",
   "execution_count": 31,
   "metadata": {},
   "outputs": [],
   "source": [
    "class UnifyStrings:\n",
    "    def unify(self, first_text, second_text):\n",
    "        return first_text + second_text\n",
    "    \n",
    "    def unify(self, first_test, second_text, separator):\n",
    "        group_text_input = [first_test, second_text]\n",
    "        return separator.join(group_text_input)"
   ]
  },
  {
   "cell_type": "code",
   "execution_count": 33,
   "metadata": {},
   "outputs": [
    {
     "name": "stdout",
     "output_type": "stream",
     "text": [
      "UnifyStrings.unify() missing 1 required positional argument: 'separator'\n"
     ]
    }
   ],
   "source": [
    "try:\n",
    "    all_join = UnifyStrings()\n",
    "    print(all_join.unify(\"Hey\", \"Python\")) \n",
    "    print(all_join.unify(\"Hey\", \"Python\", \", \")) \n",
    "except Exception as e:\n",
    "    print(e)"
   ]
  },
  {
   "attachments": {},
   "cell_type": "markdown",
   "metadata": {},
   "source": [
    "-----\n",
    "\n",
    "### Association\n",
    "\n",
    "Association is a concept that explains a relationship between objects. As for the relationship in which two objects or rather classes can share information with each other.\n",
    "\n",
    "Notice in the code that I'm defining two classes each with their characteristics"
   ]
  },
  {
   "cell_type": "code",
   "execution_count": null,
   "metadata": {},
   "outputs": [],
   "source": [
    "class Kitchen:\n",
    "     def __init__(self, boss_kitchen, time):\n",
    "         self.boss_kitchen = boss_kitchen\n",
    "         self.time = time\n",
    "         self._order = None\n",
    "    \n",
    "     @property\n",
    "     def order(self):\n",
    "         return self._order\n",
    "    \n",
    "     @order.setter\n",
    "     def order(self, order):\n",
    "         self._order = order\n",
    "\n",
    "\n",
    "class Request:\n",
    "     def __init__(\n",
    "         self,\n",
    "         order_number,\n",
    "         customer_name,\n",
    "         hamburguer,\n",
    "         observation,\n",
    "         ):\n",
    "         self.order_number = order_number\n",
    "         self.customer_name = customer_name\n",
    "         self.hamburguer = hamburguer\n",
    "         self.observation = observation\n",
    "        \n",
    "     def deliver_kitchen_order(self):\n",
    "         return f'Order number: {self.order_number}\\n'\\\n",
    "             f'Customer Name: {self.customer_name}\\n'\\\n",
    "             f'Hamburg: {self.hamburguer}\\n'\\\n",
    "             f'Note: {self.observation}\\n'"
   ]
  },
  {
   "attachments": {},
   "cell_type": "markdown",
   "metadata": {},
   "source": [
    "I instantiate the Kitchen class, getting a head chef and his hours."
   ]
  },
  {
   "cell_type": "code",
   "execution_count": null,
   "metadata": {},
   "outputs": [
    {
     "name": "stdout",
     "output_type": "stream",
     "text": [
      "Frinaldio nocturnal\n"
     ]
    }
   ],
   "source": [
    "kitchen = Kitchen('Frinaldio', 'nocturnal')\n",
    "print(kitchen.boss_kitchen, kitchen.time)"
   ]
  },
  {
   "attachments": {},
   "cell_type": "markdown",
   "metadata": {},
   "source": [
    "At this point, a customer arrives and places an order. In the same way as the previous class, I create a new object that has your order definitions."
   ]
  },
  {
   "cell_type": "code",
   "execution_count": null,
   "metadata": {},
   "outputs": [
    {
     "name": "stdout",
     "output_type": "stream",
     "text": [
      "1671 Rorismaldo Cruz X-All No onion\n"
     ]
    }
   ],
   "source": [
    "request1 = Request(\n",
    "     order_number=1671,\n",
    "     customer_name='Rorismaldo Cruz',\n",
    "     hamburguer='X-All',\n",
    "     observation='No onion',\n",
    ")\n",
    "\n",
    "print(\n",
    "     request1.order_number,\n",
    "     request1.customer_name,\n",
    "     request1.hamburguer,\n",
    "     request1.observation,\n",
    ")"
   ]
  },
  {
   "attachments": {},
   "cell_type": "markdown",
   "metadata": {},
   "source": [
    "But the order has to go somewhere, where the kitchen receives the order. Notice in the Kitchen class where I only have setter and getter methods. I will assign an Order that is a class and I will be associating the order to the kitchen where it will be receiving the method of the Order class that is \"degar_order_cozinha()\". Then notice that I'm using this associated method on my kitchen object. Where am I having access to the order attributes."
   ]
  },
  {
   "cell_type": "code",
   "execution_count": null,
   "metadata": {},
   "outputs": [
    {
     "name": "stdout",
     "output_type": "stream",
     "text": [
      "Order number: 1671\n",
      "Customer Name: Rorismaldo Cruz\n",
      "Hamburg: X-All\n",
      "Note: No onion\n",
      "\n"
     ]
    }
   ],
   "source": [
    "kitchen.order = request1\n",
    "print(kitchen.order.deliver_kitchen_order())"
   ]
  },
  {
   "cell_type": "code",
   "execution_count": null,
   "metadata": {},
   "outputs": [
    {
     "name": "stdout",
     "output_type": "stream",
     "text": [
      "Crilzancar Morning\n"
     ]
    }
   ],
   "source": [
    "kitchen = Kitchen('Crilzancar', 'Morning')\n",
    "print(kitchen.boss_kitchen, kitchen.time)"
   ]
  },
  {
   "cell_type": "code",
   "execution_count": null,
   "metadata": {},
   "outputs": [
    {
     "name": "stdout",
     "output_type": "stream",
     "text": [
      "9012 Jorolmir Cunha X-Egg No egg\n"
     ]
    }
   ],
   "source": [
    "request123 = Request(\n",
    "     order_number=9012,\n",
    "     customer_name='Jorolmir Cunha',\n",
    "     hamburguer='X-Egg',\n",
    "     observation='No egg',\n",
    ")\n",
    "\n",
    "print(\n",
    "     request123.order_number,\n",
    "     request123.customer_name,\n",
    "     request123.hamburguer,\n",
    "     request123.observation,\n",
    ")"
   ]
  },
  {
   "cell_type": "code",
   "execution_count": null,
   "metadata": {},
   "outputs": [
    {
     "name": "stdout",
     "output_type": "stream",
     "text": [
      "Order number: 9012\n",
      "Customer Name: Jorolmir Cunha\n",
      "Hamburg: X-Egg\n",
      "Note: No egg\n",
      "\n"
     ]
    }
   ],
   "source": [
    "kitchen.order = request123\n",
    "print(kitchen.order.deliver_kitchen_order())"
   ]
  },
  {
   "attachments": {},
   "cell_type": "markdown",
   "metadata": {},
   "source": [
    "-----\n",
    "\n",
    "### Aggregation\n",
    "\n",
    "In aggregation a class has other classes within its structure."
   ]
  },
  {
   "cell_type": "code",
   "execution_count": null,
   "metadata": {},
   "outputs": [
    {
     "name": "stdout",
     "output_type": "stream",
     "text": [
      "2023-05-21 15:10:29\n",
      "2023-05-21 15:50:29\n"
     ]
    }
   ],
   "source": [
    "# This step below I just created to simulate an order time and then the time it will take to prepare\n",
    "\n",
    "import time\n",
    "import datetime\n",
    "\n",
    "named_tuple = time.localtime()\n",
    "year = named_tuple.tm_year\n",
    "month = named_tuple.tm_mon\n",
    "day = named_tuple.tm_mday\n",
    "hour = named_tuple.tm_hour\n",
    "minute = named_tuple.tm_min\n",
    "second = named_tuple.tm_sec\n",
    "\n",
    "start_request_time = datetime.datetime(year, month, day, hour, minute, second)\n",
    "final_order_time = start_request_time + datetime.timedelta(minutes = 40)\n",
    "print(start_request_time)\n",
    "print(final_order_time)"
   ]
  },
  {
   "cell_type": "code",
   "execution_count": null,
   "metadata": {},
   "outputs": [],
   "source": [
    "class Kitchen:\n",
    "     def __init__(self, head_kitchen):\n",
    "         self.head_kitchen = head_kitchen\n",
    "         self._orders = []\n",
    "    \n",
    "     def new_order(self, order):\n",
    "         self._orders.append(order)\n",
    "        \n",
    "     def kitchen_orders(self):\n",
    "         for order in self._orders:\n",
    "             print(\n",
    "                 f'Order number: {order.order_number}\\n'\\\n",
    "                 f'Customer Name: {order.customer_name}\\n'\\\n",
    "                 f'Head of Kitchen: {self.head_kitchen}\\n'\\\n",
    "                 f'Hamburg: {order.hamburguer}\\n'\\\n",
    "                 f'Note: {order.observation}\\n'\n",
    "                 f'Request Time: {start_request_time}\\n'\n",
    "                 f'Time ready: {final_order_time}\\n'\n",
    "             )\n",
    "    \n",
    "    \n",
    "class Request:\n",
    "     def __init__(\n",
    "         self,\n",
    "         order_number,\n",
    "         customer_name,\n",
    "         hamburguer,\n",
    "         observation,\n",
    "         ):\n",
    "         self.order_number = order_number\n",
    "         self.customer_name = customer_name\n",
    "         self.hamburguer = hamburguer\n",
    "         self.observation = observation"
   ]
  },
  {
   "attachments": {},
   "cell_type": "markdown",
   "metadata": {},
   "source": [
    "Again in a \"hahaha\" kitchen situation. I'm going to define a new kitchen object."
   ]
  },
  {
   "cell_type": "code",
   "execution_count": null,
   "metadata": {},
   "outputs": [],
   "source": [
    "kitchen = Kitchen('Terequelzio')"
   ]
  },
  {
   "attachments": {},
   "cell_type": "markdown",
   "metadata": {},
   "source": [
    "But imagine that this kitchen receives several requests, but instead of associating. I will be uniting several objects within a class, where I can use their methods and attributes within a single class. In the case of the kitchen object, you will have access to the orders that arrive and whoever is inside the kitchen will see the characteristics of the order and start the preparation."
   ]
  },
  {
   "cell_type": "code",
   "execution_count": null,
   "metadata": {},
   "outputs": [],
   "source": [
    "request1 = Request(\n",
    "     order_number=1671,\n",
    "     customer_name='Rorismaldo Cruz',\n",
    "     hamburguer='X-All',\n",
    "     observation='No onion',\n",
    ")\n",
    "\n",
    "request2 = Request(\n",
    "     order_number=9012,\n",
    "     customer_name='Jorolmir Cunha',\n",
    "     hamburguer='X-Egg',\n",
    "     observation='No egg',\n",
    ")"
   ]
  },
  {
   "cell_type": "code",
   "execution_count": null,
   "metadata": {},
   "outputs": [],
   "source": [
    "kitchen.new_order(request1)\n",
    "kitchen.new_order(request2)"
   ]
  },
  {
   "cell_type": "code",
   "execution_count": null,
   "metadata": {},
   "outputs": [
    {
     "name": "stdout",
     "output_type": "stream",
     "text": [
      "Order number: 1671\n",
      "Customer Name: Rorismaldo Cruz\n",
      "Head of Kitchen: Terequelzio\n",
      "Hamburg: X-All\n",
      "Note: No onion\n",
      "Request Time: 2023-05-21 15:10:29\n",
      "Time ready: 2023-05-21 15:50:29\n",
      "\n",
      "Order number: 9012\n",
      "Customer Name: Jorolmir Cunha\n",
      "Head of Kitchen: Terequelzio\n",
      "Hamburg: X-Egg\n",
      "Note: No egg\n",
      "Request Time: 2023-05-21 15:10:29\n",
      "Time ready: 2023-05-21 15:50:29\n",
      "\n"
     ]
    }
   ],
   "source": [
    "kitchen.kitchen_orders()"
   ]
  },
  {
   "attachments": {},
   "cell_type": "markdown",
   "metadata": {},
   "source": [
    "-----\n",
    "\n",
    "### Composition\n",
    "\n",
    "Composition is about classes being combined with other classes without the need for a parent class (main class). That way we can have a class that looks like a building block. We create it as a base and with other classes we can compose piece by piece the structure we want as a result."
   ]
  },
  {
   "cell_type": "code",
   "execution_count": null,
   "metadata": {},
   "outputs": [
    {
     "name": "stdout",
     "output_type": "stream",
     "text": [
      "2023-05-21 15:10:29\n",
      "2023-05-21 15:50:29\n"
     ]
    }
   ],
   "source": [
    "# This step below I just created to simulate an order time and then the time it will take to prepare\n",
    "\n",
    "import time\n",
    "import datetime\n",
    "\n",
    "named_tuple = time.localtime()\n",
    "year = named_tuple.tm_year\n",
    "month = named_tuple.tm_mon\n",
    "day = named_tuple.tm_mday\n",
    "hour = named_tuple.tm_hour\n",
    "minute = named_tuple.tm_min\n",
    "second = named_tuple.tm_sec\n",
    "\n",
    "start_request_time = datetime.datetime(year, month, day, hour, minute, second)\n",
    "final_order_time = start_request_time + datetime.timedelta(minutes = 40)\n",
    "print(start_request_time)\n",
    "print(final_order_time)"
   ]
  },
  {
   "cell_type": "code",
   "execution_count": null,
   "metadata": {},
   "outputs": [],
   "source": [
    "class Potato:\n",
    "     def __init__(self, size, quantity):\n",
    "         self.size = size\n",
    "         self.quantity = quantity\n",
    "    \n",
    "class Hamburguer:\n",
    "     def __init__(self, size, quantity):\n",
    "         self.size = size\n",
    "         self.quantity = quantity\n",
    "    \n",
    "class Soda:\n",
    "     def __init__(self, size, quantity):\n",
    "         self.size = size\n",
    "         self.quantity = quantity\n",
    "\n",
    "\n",
    "class Request:\n",
    "     def __init__(self, customer_name):\n",
    "         self.customer_name = customer_name\n",
    "         self._potato = None\n",
    "         self._hamburguer = None\n",
    "         self._soda = None\n",
    "    \n",
    "     @property\n",
    "     def potato(self):\n",
    "         return self._potato\n",
    "    \n",
    "     @potato.setter\n",
    "     def potato(self, potato):\n",
    "         self._potato = potato\n",
    "        \n",
    "     @property\n",
    "     def hamburguer(self):\n",
    "         return self._hamburguer\n",
    "    \n",
    "     @hamburguer.setter\n",
    "     def hamburguer(self, hamburguer):\n",
    "         self._hamburguer = hamburguer\n",
    "    \n",
    "     @property\n",
    "     def soda(self):\n",
    "         return self._soda\n",
    "    \n",
    "     @soda.setter\n",
    "     def soda(self, soda):\n",
    "         self._soda = soda\n",
    "    \n",
    "    \n",
    "     def add_potato(self, quantity, size):\n",
    "         self.potato = Potato(quantity, size)\n",
    "        \n",
    "     def add_hamburguer(self, quantity, size):\n",
    "         self.hamburguer = Hamburguer(quantity, size)\n",
    "    \n",
    "     def add_soda(self, quantity, size):\n",
    "         self.soda = Soda(quantity, size)\n",
    "    \n",
    "     def show_order(self):\n",
    "             print(\n",
    "                 f'Customer Name: {self.customer_name}\\n'\\\n",
    "                 f'Burger: {self.hamburguer.quantity}| {self.hamburguer.size}\\n'\\\n",
    "                 f'Potato: {self.potato.quantity}| {self.potato.size}\\n'\\\n",
    "                 f'Soda: {self.soda.quantity}| {self.soda.size}\\n'\\\n",
    "                 f'Request Time: {start_request_time}\\n'\n",
    "                 f'Time ready: {final_order_time}\\n'\n",
    "             )"
   ]
  },
  {
   "attachments": {},
   "cell_type": "markdown",
   "metadata": {},
   "source": [
    "The composition concept is one of the most interesting to use, through a class, in our requested case it will be in the position of a base class, outside this class I will define other classes in the case Potato, Hamburgue, Soda where your definitions could be used by the base class(Order). This is very good, because you avoid adding many parameters to the class. In an organized way, each feature will be isolated. I will be able to compose part by part. As in the order example below."
   ]
  },
  {
   "cell_type": "code",
   "execution_count": null,
   "metadata": {},
   "outputs": [
    {
     "name": "stdout",
     "output_type": "stream",
     "text": [
      "Customer Name: Rorismaldo Cruz\n",
      "Burger: medium| 2\n",
      "Potato: medium| 2\n",
      "Soda: medium| 2\n",
      "Request Time: 2023-05-21 15:10:29\n",
      "Time ready: 2023-05-21 15:50:29\n",
      "\n"
     ]
    }
   ],
   "source": [
    "request1 = Request(\n",
    "     customer_name='Rorismaldo Cruz',\n",
    "\n",
    ")\n",
    "\n",
    "request1.add_potato(2, 'medium')\n",
    "request1.add_hamburguer(2, 'medium')\n",
    "request1.add_soda(2, 'medium')\n",
    "request1.show_order()"
   ]
  },
  {
   "cell_type": "code",
   "execution_count": null,
   "metadata": {},
   "outputs": [
    {
     "name": "stdout",
     "output_type": "stream",
     "text": [
      "Customer Name: Mericliendes Bento\n",
      "Burger: big| 2\n",
      "Potato: small| 8\n",
      "Soda: small| 3\n",
      "Request Time: 2023-05-21 15:10:29\n",
      "Time ready: 2023-05-21 15:50:29\n",
      "\n"
     ]
    }
   ],
   "source": [
    "request1 = Request(customer_name='Mericliendes Bento')\n",
    "\n",
    "request1.add_potato(8, 'small')\n",
    "request1.add_hamburguer(2, 'big')\n",
    "request1.add_soda(3, 'small')\n",
    "request1.show_order()"
   ]
  },
  {
   "attachments": {},
   "cell_type": "markdown",
   "metadata": {},
   "source": [
    "-----\n",
    "\n",
    "### Heritage\n",
    "\n",
    "Inheritance brings a major point to code reuse. Using the example below of a Car class, we pass its characteristics in the example the model of the car. Then we declare a new class like Micro_Car, Sedans, Sports_Car that are borrowing from the Car class its characteristic. Then we can instantiate a new object using these classes."
   ]
  },
  {
   "cell_type": "code",
   "execution_count": null,
   "metadata": {},
   "outputs": [
    {
     "name": "stdout",
     "output_type": "stream",
     "text": [
      "Your microcar is : Bond Bug\n",
      "Your sedan is: Fiat Cinquecento\n",
      "Your Sport Car is: Porsche 911\n"
     ]
    }
   ],
   "source": [
    "# parent class\n",
    "class Car:\n",
    "\n",
    "    def __init__(self, modelo):\n",
    "        self.modelo = modelo\n",
    "\n",
    "\n",
    "    def print_car(self):\n",
    "        print(\"\")\n",
    "\n",
    "#child class\n",
    "class Micro_Car(Car):\n",
    "\n",
    "    def print_car(self):\n",
    "        print(f\"Your microcar is : {self.modelo}\")\n",
    "\n",
    "#child class\n",
    "class Sedans(Car):\n",
    "\n",
    "    def print_car(self):\n",
    "        print(f\"Your sedan is: {self.modelo}\")\n",
    "\n",
    "#child class \n",
    "class Sports_Cars(Car):\n",
    "\n",
    "    def print_car(self):\n",
    "        print(f\"Your Sport Car is: {self.modelo}\")\n",
    "\n",
    "#We create the object\n",
    "bond_bug = Micro_Car(\"Bond Bug\")\n",
    "fiat_cinquecento= Sedans(\"Fiat Cinquecento\")\n",
    "porsche_911= Sports_Cars(\"Porsche 911\")\n",
    "\n",
    "\n",
    "bond_bug.print_car()\n",
    "fiat_cinquecento.print_car() \n",
    "porsche_911.print_car() \n"
   ]
  },
  {
   "attachments": {},
   "cell_type": "markdown",
   "metadata": {},
   "source": [
    "-----\n",
    "\n",
    "### Polymorphism\n",
    "\n",
    "Polymorphism is another object-oriented concept, how can we modify a subclass method that has its definition in the parent class. In this way we reuse our already defined methods, through inheritance. Modifying method structures in subclasses"
   ]
  },
  {
   "cell_type": "code",
   "execution_count": null,
   "metadata": {},
   "outputs": [
    {
     "name": "stdout",
     "output_type": "stream",
     "text": [
      "Your activite => Kilimeter: 5 | Time: 20\n",
      "Your time per kilometer: 5.0 minutes\n"
     ]
    }
   ],
   "source": [
    "# Parent class\n",
    "class Time_Activite:\n",
    "    def time(self):\n",
    "        pass\n",
    "\n",
    "# Child class\n",
    "class Total_Time_kilimeter(Time_Activite):\n",
    "    \n",
    "    def __init__(self, total_kilimeter, time_input):\n",
    "        self.total_kilimeter = total_kilimeter\n",
    "        self.time_input = time_input\n",
    "    \n",
    "    # Method modification\n",
    "    def time(self):\n",
    "        \n",
    "        #Note that the results are different, being able to create the same methods more for different behaviors\n",
    "        return f'Your activite => Kilimeter: {self.total_kilimeter} | Time: {self.time_input}'\n",
    "\n",
    "# Child class\n",
    "class Time_Per_Kilimeter(Time_Activite):\n",
    "\n",
    "    def __init__(self, total_kilimeter, time_input):\n",
    "        self.total_kilimeter = total_kilimeter\n",
    "        self.time_input = time_input\n",
    "    \n",
    "    # Method modification\n",
    "    def time(self):\n",
    "        time = (self.time_input * 60)\n",
    "        time = (time / self.total_kilimeter)\n",
    "        time = (time / 60)\n",
    "        \n",
    "        #Note that the results are different, being able to create the same methods more for different behaviors\n",
    "        return f'Your time per kilometer: {time} minutes'\n",
    "    \n",
    "    \n",
    "results = [Total_Time_kilimeter(5, 20), Time_Per_Kilimeter(7, 35)]\n",
    "\n",
    "for result in  results:\n",
    "    print(result.time())"
   ]
  },
  {
   "attachments": {},
   "cell_type": "markdown",
   "metadata": {},
   "source": [
    "-----\n",
    "\n",
    "### Interface\n",
    "\n",
    "The interface in the Python language does not have a structure like the Java language for this type of implementation. It is normal to be considered as example structure using attributes and methods, but it lacks its strict validation. See the Running and Mountain Bike classes below. These classes are getting in the example class from an Interface_Sport interface. Using the activate_activity function you can take advantage of the interface declared using the start_activite method."
   ]
  },
  {
   "cell_type": "code",
   "execution_count": null,
   "metadata": {},
   "outputs": [
    {
     "name": "stdout",
     "output_type": "stream",
     "text": [
      "Race start, let's go !!!\n",
      "MTB start, let's go !!!\n"
     ]
    }
   ],
   "source": [
    "class InterfaceSport:\n",
    "    def start_activite(self):\n",
    "        pass\n",
    "    \n",
    "class Run(InterfaceSport):\n",
    "    def start_activite(self):\n",
    "        return \"Race start, let's go !!!\"\n",
    "    \n",
    "class MountainBike(InterfaceSport):\n",
    "    def start_activite(self):\n",
    "        return \"MTB start, let's go !!!\"\n",
    "    \n",
    "def activate_activity(activity):\n",
    "    print(activity.start_activite())\n",
    "    \n",
    "run = Run()\n",
    "mtb = MountainBike()\n",
    "\n",
    "activate_activity(run)\n",
    "activate_activity(mtb)"
   ]
  }
 ],
 "metadata": {
  "kernelspec": {
   "display_name": "env-oo",
   "language": "python",
   "name": "python3"
  },
  "language_info": {
   "codemirror_mode": {
    "name": "ipython",
    "version": 3
   },
   "file_extension": ".py",
   "mimetype": "text/x-python",
   "name": "python",
   "nbconvert_exporter": "python",
   "pygments_lexer": "ipython3",
   "version": "3.10.6"
  },
  "orig_nbformat": 4
 },
 "nbformat": 4,
 "nbformat_minor": 2
}
