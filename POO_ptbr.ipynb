{
 "cells": [
  {
   "attachments": {},
   "cell_type": "markdown",
   "metadata": {},
   "source": [
    "# Programação Orientada a objeto"
   ]
  },
  {
   "attachments": {},
   "cell_type": "markdown",
   "metadata": {},
   "source": [
    "--------\n",
    "\n",
    "# O que é programação orientada a Objeto ?"
   ]
  },
  {
   "attachments": {},
   "cell_type": "markdown",
   "metadata": {},
   "source": [
    "- **Paradigma de programação que organiza o código em torno de objetos:**\n",
    "Onde representamos entidades do mundo real como carros, prédios, animais e outras várias opções dentro das linhas de código de maneira que fiquem classificadas pelas definições de objeto. Utilizando conceitos para melhorar organização e manutenção.  \n",
    "\n",
    "- **Objetos que são entidades que possuem estado (dados):** Como os objetos do mundo real que possuiem características dentro da orientação a objetos podemos representar utilizando atributos. \n",
    "\n",
    "- **Também possui comportamento (métodos):** Na orientação objetos não deixa de fora as funcionalidades das entidades(objeto) do mundo real. Podemos representar por meio de definições de funções que representem o comportamento de objetos. \n",
    "\n",
    "![IMAGE](OOP.png)"
   ]
  },
  {
   "attachments": {},
   "cell_type": "markdown",
   "metadata": {},
   "source": [
    "-----------\n",
    "\n",
    "# Quais vantagens e desvantagens da POO ?"
   ]
  },
  {
   "attachments": {},
   "cell_type": "markdown",
   "metadata": {},
   "source": [
    "### Vantagens:"
   ]
  },
  {
   "attachments": {},
   "cell_type": "markdown",
   "metadata": {},
   "source": [
    "**Reutilização de código**\n",
    "\n",
    "Não vai ter a necessidade de criar cada classe para diferentes objetos, que possui os mesmos atributos. Como a classe carro, que não vou precisar criar uma classe (linhas código) para cada modelo de carro. Como exemplo vamos pensar que existi uma fábrica chamada \"OO Car\", essa fábrica produz dois tipos de carro \"OO Turbo\" e o \"OO 4x4\". Você concorda comigo que esses carros possui uma fábricante, 4 rodas, 1 motor, cor, ..... e várias outras peças. Não vamos entrar em detalhes de todas. Mas imagina você como programador, definir uma classe para cada carro sendo que na maior parte das vezes vão possuir os mesmos detalhes. Estando nesse contexto a empresa \"OO Car\", desenvolve um novo carro. Novamente você vai ter que criar uma classe com as mesmas características dos carros anteriores. Assim você vai estar criando uma duplicidade imensa sem ter necessidade. Nesse ponto que entra a orientação a objetos. Definimos apenas uma classe para que reutilizamos ela para diferentes carros.\n",
    "\n",
    "**Errado**\n",
    "\n",
    "```python\n",
    "\n",
    "\n",
    "class Car_OO_Turbo():\n",
    "\n",
    "    def __init__(self, model, engine, color):\n",
    "        self.model = model\n",
    "        self.engine = engine\n",
    "        self.color = color\n",
    "\n",
    "class Car_OO_4x4():\n",
    "    \n",
    "    def __init__(self, model, engine, color):\n",
    "        self.model = model\n",
    "        self.engine = engine\n",
    "        self.color = color\n",
    "\n",
    "```\n",
    "\n",
    "**Correto**\n",
    "\n",
    "```python\n",
    "\n",
    "\n",
    "class Car():\n",
    "\n",
    "    def __init__(self, model, engine, color):\n",
    "        self.model = model\n",
    "        self.engine = engine\n",
    "        self.color = color\n",
    "\n",
    "```"
   ]
  },
  {
   "attachments": {},
   "cell_type": "markdown",
   "metadata": {},
   "source": [
    "**Facilidade de manutenção** \n",
    "\n",
    "A orientação objetos traz facilidade para realizações de alterações dentro do código, tornando manutenções dentro de classes de maneira isolada do código externo evitando problemas. Além de trazer foco ao problema de onde está ocorrendo."
   ]
  },
  {
   "attachments": {},
   "cell_type": "markdown",
   "metadata": {},
   "source": [
    "### Desvantagens:"
   ]
  },
  {
   "attachments": {},
   "cell_type": "markdown",
   "metadata": {},
   "source": [
    "**Complexidade**\n",
    "\n",
    "Mas nem tudo são vantagens com decorrer do desenvolvimento do código podemos nos deparar com enormes declarações  de classes, cada vez mais complexos possuindo atributos e métodos. Relações entre classes, sendo assim várias classes relacionadas, podendo afetar manutenções. "
   ]
  },
  {
   "attachments": {},
   "cell_type": "markdown",
   "metadata": {},
   "source": [
    "**Dificuldade de depuração**\n",
    "\n",
    "Cada vez mais classes com herança, poliformismo, associação e outros padrões. Ficam mais relacionadas entre si. Isso dificulta  a procura de problemas e erros que o código apresenta. Levando mais tempo para depurar o código.\n"
   ]
  },
  {
   "attachments": {},
   "cell_type": "markdown",
   "metadata": {},
   "source": [
    "----------\n",
    "\n",
    "# Conceitos"
   ]
  },
  {
   "attachments": {},
   "cell_type": "markdown",
   "metadata": {},
   "source": [
    "-----\n",
    "\n",
    "### Objeto"
   ]
  },
  {
   "attachments": {},
   "cell_type": "markdown",
   "metadata": {},
   "source": [
    "O objeto e definido como uma entidade de maneira que possamos representar algo do mundo real. Como exemplo:\n",
    "\n",
    "- Carro\n",
    "- Endereço\n",
    "- Casa\n",
    "- Comida\n",
    "- Avião\n",
    "\n",
    "Só que objeto não se defini por conta de um rótulo sendo um carro ou uma casa. Objeto possui características (Atributos) e processos(métodos). Assim quando temos a intenção de representar um objeto dentro da POO, adicionamos essas específicações para que sua representação seja compreensiva dentro do sistema a ser desenvolvido.\n",
    "\n",
    "![OOP_2](./OOP_2.png)"
   ]
  },
  {
   "attachments": {},
   "cell_type": "markdown",
   "metadata": {},
   "source": [
    "-----\n",
    "\n",
    "### Classe\n",
    "\n",
    "Classe tem intenção de ser um template, ou um molde de como queremos projetar um objeto do mundo real dentro do nosso projeto. Com a classe evitamos de criar vários objetos, usando uma classe para representar diferentes objetos sendo que suas características são diferentes, nas etapas seguintes essa forma de representação vai fica mais clara.\n",
    "\n",
    "Exemplos\n",
    "- Classe Carro\n",
    "- Classe cliente\n",
    "- Classe Livro\n",
    "\n",
    "Possuindo apenas uma classe, podemos definir os seus atributos e métodos. "
   ]
  },
  {
   "attachments": {},
   "cell_type": "markdown",
   "metadata": {},
   "source": [
    "Usando a linguagem Python podemos criar uma classe como exemplo abaixo. "
   ]
  },
  {
   "cell_type": "code",
   "execution_count": 95,
   "metadata": {},
   "outputs": [],
   "source": [
    "class Car:\n",
    "    ..."
   ]
  },
  {
   "cell_type": "code",
   "execution_count": 96,
   "metadata": {},
   "outputs": [],
   "source": [
    "class Client:\n",
    "    ..."
   ]
  },
  {
   "cell_type": "code",
   "execution_count": 97,
   "metadata": {},
   "outputs": [],
   "source": [
    "class Book:\n",
    "    ..."
   ]
  },
  {
   "attachments": {},
   "cell_type": "markdown",
   "metadata": {},
   "source": [
    "-----\n",
    "\n",
    "### Atributos"
   ]
  },
  {
   "attachments": {},
   "cell_type": "markdown",
   "metadata": {},
   "source": [
    "Os atributos são as características do objeto, usando como exemplo um restaurante, o objeto pedido pode ser representado como uma classe. Após sua definição adiciona-mos na classe as características(Atributos) do pedido. Como nome do cliente, lanche escolhido, ponto da carne, etc. Você pode observar em grandes fast-foods exemplos de objetos pedido, quando você escolhe, paga e aguarda para pegar o pedido você recebe o recibo que no caso e o seu pedido com seu nome e outra cópia vai para cozinha ser preparada com as características do seu pedido. Em alguns você nem precisa mais e papel de recibo. Tem um monitor com o seu pedido dentro da cozinha e outro fora com a ordem de preparo dos pedidos."
   ]
  },
  {
   "attachments": {},
   "cell_type": "markdown",
   "metadata": {},
   "source": [
    "- **\"\\_\\_init__()\"**: Esse método tem como definição de construtor dentro classe da linguagem Python, nesse método onde vamos definir atributos da classe.\n",
    "\n",
    "- **\"self\"**: Esse parâmetro tem sua definição como conveção para ser utilizada pelos métodos internos da classe que vamos visualizar na etapa seguinte. Onde não vamos ter a necessidade de passar parâmetro da classe para cada método da classe. Onde uma vez a classe estiver instanciada e o **self** estiver definido dentro da função interna. A utilização dos atributos poderá ser utilizada.\n",
    "\n"
   ]
  },
  {
   "cell_type": "code",
   "execution_count": 98,
   "metadata": {},
   "outputs": [],
   "source": [
    "class Pedido:\n",
    "    \n",
    "    def __init__(\n",
    "        self,\n",
    "        nome_cliente: str,\n",
    "        lanche: str,\n",
    "        ponto_carne: str,\n",
    "        refrigerante: bool,\n",
    "        batata: bool,\n",
    "    ):\n",
    "        self.nome_cliente = nome_cliente\n",
    "        self.lanche = lanche\n",
    "        self.ponto_carne = ponto_carne\n",
    "        self.refrigerante = refrigerante\n",
    "        self.batata = batata"
   ]
  },
  {
   "cell_type": "code",
   "execution_count": 99,
   "metadata": {},
   "outputs": [],
   "source": [
    "pedido1 = Pedido('Severius', 'X-Bacon','Ao ponto', False, False)"
   ]
  },
  {
   "cell_type": "code",
   "execution_count": 100,
   "metadata": {},
   "outputs": [
    {
     "name": "stdout",
     "output_type": "stream",
     "text": [
      "Nome cliente: Severius\n",
      "Lanche Escolhido: X-Bacon\n",
      "Ponto da carne: Ao ponto\n",
      "Pediu refrigerante: False\n",
      "Pediu Batata: False\n",
      "\n"
     ]
    }
   ],
   "source": [
    "print(\n",
    "    f'Nome cliente: {pedido1.nome_cliente}\\n'\n",
    "    f'Lanche Escolhido: {pedido1.lanche}\\n'\n",
    "    f'Ponto da carne: {pedido1.ponto_carne}\\n'\n",
    "    f'Pediu refrigerante: {pedido1.refrigerante}\\n'\n",
    "    f'Pediu Batata: {pedido1.batata}\\n'\n",
    ")"
   ]
  },
  {
   "cell_type": "code",
   "execution_count": 101,
   "metadata": {},
   "outputs": [],
   "source": [
    "pedido2 = Pedido('Kratos', 'X-Fish','Ao ponto', True, True)"
   ]
  },
  {
   "cell_type": "code",
   "execution_count": 102,
   "metadata": {},
   "outputs": [
    {
     "name": "stdout",
     "output_type": "stream",
     "text": [
      "Nome cliente: Kratos\n",
      "Lanche Escolhido: X-Fish\n",
      "Ponto da carne: Ao ponto\n",
      "Pediu refrigerante: True\n",
      "Pediu Batata: True\n",
      "\n"
     ]
    }
   ],
   "source": [
    "print(\n",
    "    f'Nome cliente: {pedido2.nome_cliente}\\n'\n",
    "    f'Lanche Escolhido: {pedido2.lanche}\\n'\n",
    "    f'Ponto da carne: {pedido2.ponto_carne}\\n'\n",
    "    f'Pediu refrigerante: {pedido2.refrigerante}\\n'\n",
    "    f'Pediu Batata: {pedido2.batata}\\n'\n",
    ")"
   ]
  },
  {
   "attachments": {},
   "cell_type": "markdown",
   "metadata": {},
   "source": [
    "-----\n",
    "\n",
    "### Métodos"
   ]
  },
  {
   "attachments": {},
   "cell_type": "markdown",
   "metadata": {},
   "source": [
    "Os métodos são funções que representamos dos objetos dentro das classes. Utilizando de exemplo o carro, podemos definir funções como de ligar motor, desligar motors, acender faróis, desligar faróis, ativar alarme, desativar alarme, movimentar, parar, abrir portas ........ e outra milhares de funções que o carro pode ter. Se você está familarizado com Python. Definimos um método dentro da classe escrevendo uma função interna da classe, que ficara apenas dentro do seu escopo. Nada fora da classe terá acesso, se não instânciar-mos um  objeto.\n"
   ]
  },
  {
   "cell_type": "code",
   "execution_count": 103,
   "metadata": {},
   "outputs": [],
   "source": [
    "class Car:\n",
    "    \n",
    "    def __init__(self, model):\n",
    "        self.model = model\n",
    "    \n",
    "    def turn_on_car(self):\n",
    "        return 'Car On'\n",
    "    \n",
    "    def turn_off_car(self):\n",
    "        return 'Car off'"
   ]
  },
  {
   "cell_type": "code",
   "execution_count": 104,
   "metadata": {},
   "outputs": [],
   "source": [
    "carro = Car('Ferrari')"
   ]
  },
  {
   "cell_type": "code",
   "execution_count": 105,
   "metadata": {},
   "outputs": [
    {
     "data": {
      "text/plain": [
       "'Car On'"
      ]
     },
     "execution_count": 105,
     "metadata": {},
     "output_type": "execute_result"
    }
   ],
   "source": [
    "carro.turn_on_car()"
   ]
  },
  {
   "cell_type": "code",
   "execution_count": 106,
   "metadata": {},
   "outputs": [
    {
     "data": {
      "text/plain": [
       "'Car off'"
      ]
     },
     "execution_count": 106,
     "metadata": {},
     "output_type": "execute_result"
    }
   ],
   "source": [
    "carro.turn_off_car()"
   ]
  },
  {
   "attachments": {},
   "cell_type": "markdown",
   "metadata": {},
   "source": [
    "-----\n",
    "\n",
    "### Visiabilidade de atributos"
   ]
  },
  {
   "attachments": {},
   "cell_type": "markdown",
   "metadata": {},
   "source": [
    "A visiabilidade de atributos traz uma opção dentro da linguagem Python para que existe o compartilhamento de funcionalidades da classe. Que pode ocorrer de maneira externa ou interna. Nem sempre quando vamos desenvolver softwares teremos necessidade de usar atributos ou métodos externos, para que outras partes do código não tenha acesso externo da classe e apenas interno protegendo atributos e métodos. Na linguagem Python existem 3 public, protected, private. Mas eles tem suas pecularidades da linguagem onde existem algumas diferenças de outras linguagens de programação."
   ]
  },
  {
   "attachments": {},
   "cell_type": "markdown",
   "metadata": {},
   "source": [
    "**Public**"
   ]
  },
  {
   "attachments": {},
   "cell_type": "markdown",
   "metadata": {},
   "source": [
    "Um dos modificadores de acesso que e a linguagem Python possui. É o **public** , ele permite o acesso dos atributos e dos métodos em qualquer parte do código sem restrições. "
   ]
  },
  {
   "cell_type": "code",
   "execution_count": 107,
   "metadata": {},
   "outputs": [],
   "source": [
    "class House:\n",
    "    def __init__(self, color):\n",
    "        self.color = color"
   ]
  },
  {
   "cell_type": "code",
   "execution_count": 108,
   "metadata": {},
   "outputs": [],
   "source": [
    "house_public = House('Blue public')"
   ]
  },
  {
   "cell_type": "code",
   "execution_count": 109,
   "metadata": {},
   "outputs": [
    {
     "name": "stdout",
     "output_type": "stream",
     "text": [
      "Blue public\n"
     ]
    }
   ],
   "source": [
    "print(house_public.color)"
   ]
  },
  {
   "attachments": {},
   "cell_type": "markdown",
   "metadata": {},
   "source": [
    "**Protected**"
   ]
  },
  {
   "attachments": {},
   "cell_type": "markdown",
   "metadata": {},
   "source": [
    "O modificador de  acesso **protected**, não tem a mesma função como na linguagem Java, ele existe por convenção ou padrão da linguagem Python. Ele fica representado como **\" _ \"**. Para declarar na linguagem Python adicionamos como prefixo no atributo ou no método. Mas não significa que esteja protegido, funciona como conveção entre os desenvolvedores. De maneira que indique o acesso de atributos e métodos, apenas em subclasses.   "
   ]
  },
  {
   "cell_type": "code",
   "execution_count": 110,
   "metadata": {},
   "outputs": [],
   "source": [
    "class House:\n",
    "    def __init__(self, color):\n",
    "        self._color = color\n",
    "        \n",
    "    def print_color(self):\n",
    "        print(f'Color this house is {self._color}')"
   ]
  },
  {
   "cell_type": "code",
   "execution_count": 111,
   "metadata": {},
   "outputs": [
    {
     "name": "stdout",
     "output_type": "stream",
     "text": [
      "Blue protected\n",
      "Color this house is Blue protected\n",
      "None\n"
     ]
    }
   ],
   "source": [
    "house_protected = House('Blue protected')\n",
    "print(house_protected._color)\n",
    "print(house_protected.print_color())"
   ]
  },
  {
   "attachments": {},
   "cell_type": "markdown",
   "metadata": {},
   "source": [
    "**Private**"
   ]
  },
  {
   "attachments": {},
   "cell_type": "markdown",
   "metadata": {},
   "source": [
    "Agora temos o **private** ele também funciona como convenção da linguagem Python. Ele fica representado como **\" __ \"**. Para declarar na linguagem Python adicionamos como prefixo no atributo ou no método. Mas não significa que esteja private, funciona como conveção entre os desenvolvedores. De maneira que indique o acesso de atributos e métodos, apenas na classe onde foi definido. "
   ]
  },
  {
   "cell_type": "code",
   "execution_count": 112,
   "metadata": {},
   "outputs": [],
   "source": [
    "class House:\n",
    "    def __init__(self, color):\n",
    "        self.__color = color\n",
    "        \n",
    "    def print_color(self):\n",
    "        print(f'Color this house is {self.__color}')"
   ]
  },
  {
   "attachments": {},
   "cell_type": "markdown",
   "metadata": {},
   "source": [
    "Mas porque ocorreu erro sendo que o **private** também e uma convenção. Isso porque ao declararmos o atributo com **\" __ \"**, a linguagem compreendeou que estamos usando um atributo privado e executa uma transformação no seu nome. Chamado de \"name mangling\", adiciona uma prefixo **\" _ \"**, deixando acessível apenas dentro da classe, mas não são privados com na linguagem Java. "
   ]
  },
  {
   "cell_type": "code",
   "execution_count": 113,
   "metadata": {},
   "outputs": [
    {
     "name": "stdout",
     "output_type": "stream",
     "text": [
      "'House' object has no attribute '__color'\n"
     ]
    }
   ],
   "source": [
    "try:\n",
    "    house_private = House('Blue private')\n",
    "    print(house_private.__color)\n",
    "    print(house_private.print_color())\n",
    "except Exception as e:\n",
    "    print(e)"
   ]
  },
  {
   "attachments": {},
   "cell_type": "markdown",
   "metadata": {},
   "source": [
    "Para ter acesso o nome modificado teria que passar da mesma forma que name mangling está retornando."
   ]
  },
  {
   "cell_type": "code",
   "execution_count": 114,
   "metadata": {},
   "outputs": [],
   "source": [
    "class House:\n",
    "    def __init__(self, color):\n",
    "        self.__color = color\n",
    "        \n",
    "    def print_color(self):\n",
    "        print(f'Color this house is {self.__color}')"
   ]
  },
  {
   "cell_type": "code",
   "execution_count": 115,
   "metadata": {},
   "outputs": [
    {
     "name": "stdout",
     "output_type": "stream",
     "text": [
      "Blue private\n",
      "Color this house is Blue private\n",
      "None\n"
     ]
    }
   ],
   "source": [
    "try:\n",
    "    house_private = House('Blue private')\n",
    "    print(house_private._House__color)\n",
    "    print(house_private.print_color())\n",
    "except Exception as e:\n",
    "    print(e)"
   ]
  },
  {
   "attachments": {},
   "cell_type": "markdown",
   "metadata": {},
   "source": [
    "-----\n",
    "\n",
    "### Encapsulamento"
   ]
  },
  {
   "attachments": {},
   "cell_type": "markdown",
   "metadata": {},
   "source": [
    "Sendo um dos princípais fundamentos da POO, o encapsulamento tem o objetivo de assegurar a integridade dos atributos e métodos internos da classe. Além de  melhorar manutenção de código pois mudanças necessárias ficam apenas internas da classe, trazendo um ambiente controlado que mudanças não afetem o código externo.\n"
   ]
  },
  {
   "attachments": {},
   "cell_type": "markdown",
   "metadata": {},
   "source": [
    "**errado**"
   ]
  },
  {
   "attachments": {},
   "cell_type": "markdown",
   "metadata": {},
   "source": [
    "Nessa etapa não significa que esteja errado, mas como estamos declarando um atributo privado. Não queremos utilizar \"name mangling\", e poder utilizar o encapsulamento."
   ]
  },
  {
   "cell_type": "code",
   "execution_count": 116,
   "metadata": {},
   "outputs": [],
   "source": [
    "class Car:\n",
    "    def __init__(self, model, motor):\n",
    "        self.model = model\n",
    "        self.__motor = motor\n"
   ]
  },
  {
   "cell_type": "code",
   "execution_count": 117,
   "metadata": {},
   "outputs": [],
   "source": [
    "carro = Car('Ferrari', 'V8')"
   ]
  },
  {
   "cell_type": "code",
   "execution_count": 118,
   "metadata": {},
   "outputs": [
    {
     "name": "stdout",
     "output_type": "stream",
     "text": [
      "'Car' object has no attribute 'motor'\n"
     ]
    }
   ],
   "source": [
    "try:\n",
    "    print(\n",
    "        carro.model,\n",
    "        carro.motor,\n",
    "    )\n",
    "except Exception as e:\n",
    "    print(e)"
   ]
  },
  {
   "attachments": {},
   "cell_type": "markdown",
   "metadata": {},
   "source": [
    "**correto**"
   ]
  },
  {
   "attachments": {},
   "cell_type": "markdown",
   "metadata": {},
   "source": [
    "Os getters e setters são métodos controlados e também seguros para que possamos acessar(get) e também modificar(set) os dados que serão atribuidos em uma classe. \n",
    "\n",
    "- Getter: Retorna o valor atribuido. Sem ter que lidar direto ao atributo da classe. Criando uma camada de proteção. Nesse exemplo estarei utilizando um decorador chamado **@property**. Esse decorator permiti o método definido a ter acesso ao atributo.  \n",
    "\n",
    "- Setter: Altera o valor atribuido. Tem como princípio definir um novo valor ao atributo. Nesse exemplo estarei utilizando um decorador chamado **@setter**. Esse decorator permiti o método definido para modificar o atributo.  \n"
   ]
  },
  {
   "cell_type": "code",
   "execution_count": 119,
   "metadata": {},
   "outputs": [],
   "source": [
    "class Car:\n",
    "    def __init__(self, model, motor):\n",
    "        self.model = model\n",
    "        self.__motor = motor\n",
    "    \n",
    "    #Getter\n",
    "    @property\n",
    "    def motor(self):\n",
    "        return self.__motor\n",
    "    \n",
    "    #Setter\n",
    "    @motor.setter\n",
    "    def motor(self, motor):\n",
    "        self.__motor = motor\n",
    "        "
   ]
  },
  {
   "cell_type": "code",
   "execution_count": 120,
   "metadata": {},
   "outputs": [],
   "source": [
    "carro = Car('Ferrari', 'V8')"
   ]
  },
  {
   "cell_type": "code",
   "execution_count": 121,
   "metadata": {},
   "outputs": [
    {
     "name": "stdout",
     "output_type": "stream",
     "text": [
      "Ferrari V8\n"
     ]
    }
   ],
   "source": [
    "print(\n",
    "        carro.model,\n",
    "        carro.motor,\n",
    "    )"
   ]
  },
  {
   "attachments": {},
   "cell_type": "markdown",
   "metadata": {},
   "source": [
    "-----\n",
    "\n",
    "### Sobrecarga de métodos"
   ]
  },
  {
   "attachments": {},
   "cell_type": "markdown",
   "metadata": {},
   "source": [
    "A sobrecarga de métodos vai trazer a possibilidade dentro da classe de criar vários funções(métodos) para mesma classe. Não tendo a necessidade de criar uma nova classe para funcionalidades diferentes. Mas na linguagem Python, não suporta sobrecarga como em outras linguagens. Abaixo crio uma classe como exemplo. Mas observe que o erro e capturado mostrando que está ausente um argumento. Porque o método seguinte sobrescreve o anterior."
   ]
  },
  {
   "cell_type": "code",
   "execution_count": 145,
   "metadata": {},
   "outputs": [],
   "source": [
    "class UnifyStrings:\n",
    "    def unify(self, first_text, second_text):\n",
    "        return first_text + second_text\n",
    "    \n",
    "    def unify(self, first_test, second_text, separator):\n",
    "        group_text_input = [first_test, second_text]\n",
    "        return separator.join(group_text_input)"
   ]
  },
  {
   "cell_type": "code",
   "execution_count": 147,
   "metadata": {},
   "outputs": [
    {
     "name": "stdout",
     "output_type": "stream",
     "text": [
      "UnifyStrings.unify() missing 1 required positional argument: 'separator'\n"
     ]
    }
   ],
   "source": [
    "try:\n",
    "    all_join = UnifyStrings()\n",
    "    print(all_join.unify(\"Hey\", \"Python\")) \n",
    "    print(all_join.unify(\"Hey\", \"Python\", \", \")) \n",
    "except Exception as e:\n",
    "    print(e)"
   ]
  },
  {
   "attachments": {},
   "cell_type": "markdown",
   "metadata": {},
   "source": [
    "-----\n",
    "\n",
    "### Associação"
   ]
  },
  {
   "attachments": {},
   "cell_type": "markdown",
   "metadata": {},
   "source": [
    "A associação é trata de um conceito que explica um relação entre objetos. No que diz relação em que dois objetos ou melhor dizendo classes podem compartilhar informações entre si. "
   ]
  },
  {
   "attachments": {},
   "cell_type": "markdown",
   "metadata": {},
   "source": [
    "Observe no código que estou definindo duas classes cada uma com suas características"
   ]
  },
  {
   "cell_type": "code",
   "execution_count": 122,
   "metadata": {},
   "outputs": [],
   "source": [
    "class Cozinha:\n",
    "    def __init__(self, chefe_cozinha, horario):\n",
    "        self.chefe_cozinha = chefe_cozinha\n",
    "        self.horario = horario\n",
    "        self._pedido = None\n",
    "    \n",
    "    @property\n",
    "    def pedido(self):\n",
    "        return self._pedido\n",
    "    \n",
    "    @pedido.setter\n",
    "    def pedido(self, pedido):\n",
    "        self._pedido = pedido\n",
    "\n",
    "\n",
    "class Pedido:\n",
    "    def __init__(\n",
    "        self,\n",
    "        numero_pedido,\n",
    "        nome_cliente,\n",
    "        hamburgue,\n",
    "        observacao,\n",
    "        ):\n",
    "        self.numero_pedido = numero_pedido\n",
    "        self.nome_cliente = nome_cliente\n",
    "        self.hamburgue = hamburgue\n",
    "        self.observacao = observacao\n",
    "        \n",
    "    def entregar_pedido_cozinha(self):\n",
    "        return f'Número pedido: {self.numero_pedido}\\n'\\\n",
    "            f'Nome Cliente: {self.nome_cliente}\\n'\\\n",
    "            f'Hamburgue: {self.hamburgue}\\n'\\\n",
    "            f'Observação: {self.observacao}\\n'"
   ]
  },
  {
   "attachments": {},
   "cell_type": "markdown",
   "metadata": {},
   "source": [
    "Eu instancio a classe Cozinha, recebendo um chefe da cozinha e o horário dele."
   ]
  },
  {
   "cell_type": "code",
   "execution_count": 123,
   "metadata": {},
   "outputs": [
    {
     "name": "stdout",
     "output_type": "stream",
     "text": [
      "Frinaldio Noturno\n"
     ]
    }
   ],
   "source": [
    "cozinha = Cozinha('Frinaldio', 'Noturno')\n",
    "print(cozinha.chefe_cozinha, cozinha.horario)"
   ]
  },
  {
   "attachments": {},
   "cell_type": "markdown",
   "metadata": {},
   "source": [
    "Nesse ponto chega um cliente e realiza um pedido. Da mesma forma que a classe anterior, crio um novo objeto que tem suas definições de pedido."
   ]
  },
  {
   "cell_type": "code",
   "execution_count": 124,
   "metadata": {},
   "outputs": [
    {
     "name": "stdout",
     "output_type": "stream",
     "text": [
      "1671 Rorismaldo Cruz X-Tudo Sem cebola\n"
     ]
    }
   ],
   "source": [
    "pedido1 = Pedido(\n",
    "    numero_pedido=1671,\n",
    "    nome_cliente='Rorismaldo Cruz',\n",
    "    hamburgue='X-Tudo',\n",
    "    observacao='Sem cebola',\n",
    ")\n",
    "\n",
    "print(\n",
    "    pedido1.numero_pedido,\n",
    "    pedido1.nome_cliente,\n",
    "    pedido1.hamburgue,\n",
    "    pedido1.observacao,\n",
    ")"
   ]
  },
  {
   "attachments": {},
   "cell_type": "markdown",
   "metadata": {},
   "source": [
    "Só que o pedido tem que ir para algum lugar, onde que a cozinha recebe o pedido. Observe na classe Cozinha onde tenho apenas os métodos setter e getter. Vou atribuir um Pedido que e uma classe e estarei associando o pedido para a cozinha onde vai estar recebendo o método da classe Pedido que e \"entregar_pedido_cozinha()\". Logo em seguida observe que estou usando este método associada no meu objeto cozinha. Onde estou tendo acesso aos atributos do pedido."
   ]
  },
  {
   "cell_type": "code",
   "execution_count": 125,
   "metadata": {},
   "outputs": [
    {
     "name": "stdout",
     "output_type": "stream",
     "text": [
      "Número pedido: 1671\n",
      "Nome Cliente: Rorismaldo Cruz\n",
      "Hamburgue: X-Tudo\n",
      "Observação: Sem cebola\n",
      "\n"
     ]
    }
   ],
   "source": [
    "cozinha.pedido = pedido1\n",
    "print(cozinha.pedido.entregar_pedido_cozinha())"
   ]
  },
  {
   "cell_type": "code",
   "execution_count": 126,
   "metadata": {},
   "outputs": [
    {
     "name": "stdout",
     "output_type": "stream",
     "text": [
      "Crilzancar Manhã\n"
     ]
    }
   ],
   "source": [
    "cozinha = Cozinha('Crilzancar', 'Manhã')\n",
    "print(cozinha.chefe_cozinha, cozinha.horario)"
   ]
  },
  {
   "cell_type": "code",
   "execution_count": 127,
   "metadata": {},
   "outputs": [
    {
     "name": "stdout",
     "output_type": "stream",
     "text": [
      "9012 Jorolmir Cunha X-Egg Sem ovo\n"
     ]
    }
   ],
   "source": [
    "pedido123 = Pedido(\n",
    "    numero_pedido=9012,\n",
    "    nome_cliente='Jorolmir Cunha',\n",
    "    hamburgue='X-Egg',\n",
    "    observacao='Sem ovo',\n",
    ")\n",
    "\n",
    "print(\n",
    "    pedido123.numero_pedido,\n",
    "    pedido123.nome_cliente,\n",
    "    pedido123.hamburgue,\n",
    "    pedido123.observacao,\n",
    ")"
   ]
  },
  {
   "cell_type": "code",
   "execution_count": 128,
   "metadata": {},
   "outputs": [
    {
     "name": "stdout",
     "output_type": "stream",
     "text": [
      "Número pedido: 9012\n",
      "Nome Cliente: Jorolmir Cunha\n",
      "Hamburgue: X-Egg\n",
      "Observação: Sem ovo\n",
      "\n"
     ]
    }
   ],
   "source": [
    "cozinha.pedido = pedido123\n",
    "print(cozinha.pedido.entregar_pedido_cozinha())"
   ]
  },
  {
   "attachments": {},
   "cell_type": "markdown",
   "metadata": {},
   "source": [
    "-----\n",
    "\n",
    "### Agregação"
   ]
  },
  {
   "attachments": {},
   "cell_type": "markdown",
   "metadata": {},
   "source": [
    "Na agregação uma classe possui outras classes dentro de sua estrutura. "
   ]
  },
  {
   "cell_type": "code",
   "execution_count": 129,
   "metadata": {},
   "outputs": [
    {
     "name": "stdout",
     "output_type": "stream",
     "text": [
      "2023-05-21 11:59:42\n",
      "2023-05-21 12:39:42\n"
     ]
    }
   ],
   "source": [
    "# This step below I just created to simulate an order time and then the time it will take to prepare\n",
    "\n",
    "import time\n",
    "import datetime\n",
    "\n",
    "named_tuple = time.localtime()\n",
    "year = named_tuple.tm_year\n",
    "month = named_tuple.tm_mon\n",
    "day = named_tuple.tm_mday\n",
    "hour = named_tuple.tm_hour\n",
    "minute = named_tuple.tm_min\n",
    "second = named_tuple.tm_sec\n",
    "\n",
    "start_request_time = datetime.datetime(year, month, day, hour, minute, second)\n",
    "final_order_time = start_request_time + datetime.timedelta(minutes = 40)\n",
    "print(start_request_time)\n",
    "print(final_order_time)"
   ]
  },
  {
   "cell_type": "code",
   "execution_count": 130,
   "metadata": {},
   "outputs": [],
   "source": [
    "class Cozinha:\n",
    "    def __init__(self, chefe_cozinha):\n",
    "        self.chefe_cozinha = chefe_cozinha\n",
    "        self._pedidos = []\n",
    "    \n",
    "    def novo_pedido(self, pedido):\n",
    "        self._pedidos.append(pedido)\n",
    "        \n",
    "    def pedidos_cozinha(self):\n",
    "        for pedido in self._pedidos:\n",
    "            print(\n",
    "                f'Número pedido: {pedido.numero_pedido}\\n'\\\n",
    "                f'Nome Cliente: {pedido.nome_cliente}\\n'\\\n",
    "                f'Chefe Cozinha: {self.chefe_cozinha}\\n'\\\n",
    "                f'Hamburgue: {pedido.hamburgue}\\n'\\\n",
    "                f'Observação: {pedido.observacao}\\n'\n",
    "                f'Horário Pedido: {start_request_time}\\n'\n",
    "                f'Horário pronto: {final_order_time}\\n'\n",
    "            )\n",
    "    \n",
    "    \n",
    "class Pedido:\n",
    "    def __init__(\n",
    "        self,\n",
    "        numero_pedido,\n",
    "        nome_cliente,\n",
    "        hamburgue,\n",
    "        observacao,\n",
    "        ):\n",
    "        self.numero_pedido = numero_pedido\n",
    "        self.nome_cliente = nome_cliente\n",
    "        self.hamburgue = hamburgue\n",
    "        self.observacao = observacao\n"
   ]
  },
  {
   "attachments": {},
   "cell_type": "markdown",
   "metadata": {},
   "source": [
    "Novamente em uma situação de cozinha \"hahaha\". Vou definir um novo objeto cozinha."
   ]
  },
  {
   "cell_type": "code",
   "execution_count": 131,
   "metadata": {},
   "outputs": [],
   "source": [
    "cozinha = Cozinha('Terequelzio')"
   ]
  },
  {
   "attachments": {},
   "cell_type": "markdown",
   "metadata": {},
   "source": [
    "Mas imagina que essa cozinha recebe vários pedidos, só que ao invés de estar asssociando. Vou estar unindo vários objetos dentro de uma classe, onde posso usar usufruir dos seus métodos e atributos dentro de uma classe apenas. No caso do obejto cozinha, terá acesso aos pedidos que chegarem e quem está dentro da cozinha vai visualizar as características do pedido e começar o preparo. "
   ]
  },
  {
   "cell_type": "code",
   "execution_count": 132,
   "metadata": {},
   "outputs": [],
   "source": [
    "pedido1 = Pedido(\n",
    "    numero_pedido=1671,\n",
    "    nome_cliente='Rorismaldo Cruz',\n",
    "    hamburgue='X-Tudo',\n",
    "    observacao='Sem cebola',\n",
    ")\n",
    "\n",
    "pedido2 = Pedido(\n",
    "    numero_pedido=9012,\n",
    "    nome_cliente='Jorolmir Cunha',\n",
    "    hamburgue='X-Egg',\n",
    "    observacao='Sem ovo',\n",
    ")"
   ]
  },
  {
   "cell_type": "code",
   "execution_count": 133,
   "metadata": {},
   "outputs": [],
   "source": [
    "cozinha.novo_pedido(pedido1)\n",
    "cozinha.novo_pedido(pedido2)"
   ]
  },
  {
   "cell_type": "code",
   "execution_count": 134,
   "metadata": {},
   "outputs": [
    {
     "name": "stdout",
     "output_type": "stream",
     "text": [
      "Número pedido: 1671\n",
      "Nome Cliente: Rorismaldo Cruz\n",
      "Chefe Cozinha: Terequelzio\n",
      "Hamburgue: X-Tudo\n",
      "Observação: Sem cebola\n",
      "Horário Pedido: 2023-05-21 11:59:42\n",
      "Horário pronto: 2023-05-21 12:39:42\n",
      "\n",
      "Número pedido: 9012\n",
      "Nome Cliente: Jorolmir Cunha\n",
      "Chefe Cozinha: Terequelzio\n",
      "Hamburgue: X-Egg\n",
      "Observação: Sem ovo\n",
      "Horário Pedido: 2023-05-21 11:59:42\n",
      "Horário pronto: 2023-05-21 12:39:42\n",
      "\n"
     ]
    }
   ],
   "source": [
    "cozinha.pedidos_cozinha()"
   ]
  },
  {
   "attachments": {},
   "cell_type": "markdown",
   "metadata": {},
   "source": [
    "-----\n",
    "\n",
    "### Composição"
   ]
  },
  {
   "attachments": {},
   "cell_type": "markdown",
   "metadata": {},
   "source": [
    "Na composição trata-se de classes estarem combinadas com outras classes sem a necessidade de uma classe pai(classe principal). Dessa forma podemos ter uma classe que fique de maneira que pareça um bloco de construção. Criamos ela como uma base e com outras classes podemos compor pedaço por pedaço da estrutura que queremos como resultado."
   ]
  },
  {
   "cell_type": "code",
   "execution_count": 135,
   "metadata": {},
   "outputs": [
    {
     "name": "stdout",
     "output_type": "stream",
     "text": [
      "2023-05-21 11:59:42\n",
      "2023-05-21 12:39:42\n"
     ]
    }
   ],
   "source": [
    "# This step below I just created to simulate an order time and then the time it will take to prepare\n",
    "\n",
    "import time\n",
    "import datetime\n",
    "\n",
    "named_tuple = time.localtime()\n",
    "year = named_tuple.tm_year\n",
    "month = named_tuple.tm_mon\n",
    "day = named_tuple.tm_mday\n",
    "hour = named_tuple.tm_hour\n",
    "minute = named_tuple.tm_min\n",
    "second = named_tuple.tm_sec\n",
    "\n",
    "start_request_time = datetime.datetime(year, month, day, hour, minute, second)\n",
    "final_order_time = start_request_time + datetime.timedelta(minutes = 40)\n",
    "print(start_request_time)\n",
    "print(final_order_time)"
   ]
  },
  {
   "cell_type": "code",
   "execution_count": 136,
   "metadata": {},
   "outputs": [],
   "source": [
    "class Batata:\n",
    "    def __init__(self, tamanho, quantidade):\n",
    "        self.tamanho = tamanho\n",
    "        self.quantidade = quantidade\n",
    "    \n",
    "class Hamburgue:\n",
    "    def __init__(self, tamanho, quantidade):\n",
    "        self.tamanho = tamanho\n",
    "        self.quantidade = quantidade\n",
    "    \n",
    "class Refrigerante:\n",
    "    def __init__(self, tamanho, quantidade):\n",
    "        self.tamanho = tamanho\n",
    "        self.quantidade = quantidade\n",
    "\n",
    "\n",
    "class Pedido:\n",
    "    def __init__(self, nome_cliente):\n",
    "        self.nome_cliente = nome_cliente\n",
    "        self._batata = None\n",
    "        self._hamburgue = None\n",
    "        self._refrigerante = None\n",
    "    \n",
    "    @property\n",
    "    def batata(self):\n",
    "        return self._batata\n",
    "    \n",
    "    @batata.setter\n",
    "    def batata(self, batata):\n",
    "        self._batata = batata\n",
    "        \n",
    "    @property\n",
    "    def hamburgue(self):\n",
    "        return self._hamburgue\n",
    "    \n",
    "    @hamburgue.setter\n",
    "    def hamburgue(self, hamburgue):\n",
    "        self._hamburgue = hamburgue\n",
    "    \n",
    "    @property\n",
    "    def refrigerante(self):\n",
    "        return self._refrigerante\n",
    "    \n",
    "    @refrigerante.setter\n",
    "    def refrigerante(self, refrigerante):\n",
    "        self._refrigerante = refrigerante\n",
    "    \n",
    "    \n",
    "    def add_batata(self, quantidade, tamanho):\n",
    "        self.batata = Batata(quantidade, tamanho)\n",
    "        \n",
    "    def add_hamburgue(self, quantidade, tamanho):\n",
    "        self.hamburgue = Hamburgue(quantidade, tamanho)\n",
    "    \n",
    "    def add_refrigerante(self, quantidade, tamanho):\n",
    "        self.refrigerante = Refrigerante(quantidade, tamanho)\n",
    "    \n",
    "    def mostrar_pedido(self):\n",
    "            print(\n",
    "                f'Nome Cliente: {self.nome_cliente}\\n'\\\n",
    "                f'Hamburguer: {self.hamburgue.quantidade}| {self.hamburgue.tamanho}\\n'\\\n",
    "                f'Batata: {self.batata.quantidade}| {self.batata.tamanho}\\n'\\\n",
    "                f'Refrigerante: {self.refrigerante.quantidade}| {self.refrigerante.tamanho}\\n'\\\n",
    "                f'Horário Pedido: {start_request_time}\\n'\n",
    "                f'Horário pronto: {final_order_time}\\n'\n",
    "            )"
   ]
  },
  {
   "attachments": {},
   "cell_type": "markdown",
   "metadata": {},
   "source": [
    "O conceito composição e um dos mais interessantes de utilizar, por meio de uma classe, no nosso caso pedido vai se encontrar na posição de uma classe base, fora dessa classe vou definir outras classes no caso Batata, Hamburgue, Refrigerante onde sus definições poderam ser utilizadas pela classe base(Pedido). Isso e muito bom, porque você evita de adicionar vários parâmetros para classe. De maneira organizada, cada característica vai ficar isolada. Vou poder compor parte por parte. Como no exemplo do pedido abaixo."
   ]
  },
  {
   "cell_type": "code",
   "execution_count": 137,
   "metadata": {},
   "outputs": [
    {
     "name": "stdout",
     "output_type": "stream",
     "text": [
      "Nome Cliente: Rorismaldo Cruz\n",
      "Hamburguer: médio| 2\n",
      "Batata: médio| 2\n",
      "Refrigerante: médio| 2\n",
      "Horário Pedido: 2023-05-21 11:59:42\n",
      "Horário pronto: 2023-05-21 12:39:42\n",
      "\n"
     ]
    }
   ],
   "source": [
    "pedido1 = Pedido(\n",
    "    nome_cliente='Rorismaldo Cruz',\n",
    "\n",
    ")\n",
    "\n",
    "pedido1.add_batata(2, 'médio')\n",
    "pedido1.add_hamburgue(2, 'médio')\n",
    "pedido1.add_refrigerante(2, 'médio')\n",
    "pedido1.mostrar_pedido()"
   ]
  },
  {
   "cell_type": "code",
   "execution_count": 138,
   "metadata": {},
   "outputs": [
    {
     "name": "stdout",
     "output_type": "stream",
     "text": [
      "Nome Cliente: Mericliendes Bentro\n",
      "Hamburguer: grande| 2\n",
      "Batata: pequena| 8\n",
      "Refrigerante: pequeno| 3\n",
      "Horário Pedido: 2023-05-21 11:59:42\n",
      "Horário pronto: 2023-05-21 12:39:42\n",
      "\n"
     ]
    }
   ],
   "source": [
    "pedido2 = Pedido(\n",
    "    nome_cliente='Mericliendes Bentro',\n",
    "\n",
    ")\n",
    "pedido2.add_batata(8, 'pequena')\n",
    "pedido2.add_hamburgue(2, 'grande')\n",
    "pedido2.add_refrigerante(3, 'pequeno')\n",
    "pedido2.mostrar_pedido()"
   ]
  },
  {
   "attachments": {},
   "cell_type": "markdown",
   "metadata": {},
   "source": [
    "-----\n",
    "\n",
    "### Herança"
   ]
  },
  {
   "attachments": {},
   "cell_type": "markdown",
   "metadata": {},
   "source": [
    "A herança traz um ponto principal reutilização de código. Usando o exemplo abaixo de uma classe Carro, passamos suas caraterísticas no exemplo o modelo do carro. Depois declaramos uma nova classe como Micro_Car, Sedans, Sports_Car que estão erdando da classe Carro sua característica. Depois podemos instanciar um novo objeto usando essas classes."
   ]
  },
  {
   "cell_type": "code",
   "execution_count": 139,
   "metadata": {},
   "outputs": [
    {
     "name": "stdout",
     "output_type": "stream",
     "text": [
      "Your microcar is : Bond Bug\n",
      "Your sedan is: Fiat Cinquecento\n",
      "Your Sport Car is: Porsche 911\n"
     ]
    }
   ],
   "source": [
    "# parent class\n",
    "class Car:\n",
    "\n",
    "    def __init__(self, modelo):\n",
    "        self.modelo = modelo\n",
    "\n",
    "\n",
    "    def print_car(self):\n",
    "        print(\"\")\n",
    "\n",
    "#child class\n",
    "class Micro_Car(Car):\n",
    "\n",
    "    def print_car(self):\n",
    "        print(f\"Your microcar is : {self.modelo}\")\n",
    "\n",
    "#child class\n",
    "class Sedans(Car):\n",
    "\n",
    "    def print_car(self):\n",
    "        print(f\"Your sedan is: {self.modelo}\")\n",
    "\n",
    "#child class \n",
    "class Sports_Cars(Car):\n",
    "\n",
    "    def print_car(self):\n",
    "        print(f\"Your Sport Car is: {self.modelo}\")\n",
    "\n",
    "#We create the object\n",
    "bond_bug = Micro_Car(\"Bond Bug\")\n",
    "fiat_cinquecento= Sedans(\"Fiat Cinquecento\")\n",
    "porsche_911= Sports_Cars(\"Porsche 911\")\n",
    "\n",
    "\n",
    "bond_bug.print_car()\n",
    "fiat_cinquecento.print_car() \n",
    "porsche_911.print_car() \n"
   ]
  },
  {
   "attachments": {},
   "cell_type": "markdown",
   "metadata": {},
   "source": [
    "-----\n",
    "\n",
    "### Polimorfismo"
   ]
  },
  {
   "attachments": {},
   "cell_type": "markdown",
   "metadata": {},
   "source": [
    "Polimorfismo e mais um conceito de orientação a objetos, como ele podemos modificar um método da subclasse que tem sua definição na classe pai. Dessa forma reutilizamos nossa métodos já definidos, por meio da herança. Modificando estruturas dos médodos nas sub-classes "
   ]
  },
  {
   "cell_type": "code",
   "execution_count": 140,
   "metadata": {},
   "outputs": [
    {
     "name": "stdout",
     "output_type": "stream",
     "text": [
      "Your activite => Kilimeter: 5 | Time: 20\n",
      "Your time per kilometer: 5.0 minutes\n"
     ]
    }
   ],
   "source": [
    "# Parent class\n",
    "class Time_Activite:\n",
    "    def time(self):\n",
    "        pass\n",
    "\n",
    "# Child class\n",
    "class Total_Time_kilimeter(Time_Activite):\n",
    "    \n",
    "    def __init__(self, total_kilimeter, time_input):\n",
    "        self.total_kilimeter = total_kilimeter\n",
    "        self.time_input = time_input\n",
    "    \n",
    "    # Method modification\n",
    "    def time(self):\n",
    "        \n",
    "        #Note that the results are different, being able to create the same methods more for different behaviors\n",
    "        return f'Your activite => Kilimeter: {self.total_kilimeter} | Time: {self.time_input}'\n",
    "\n",
    "# Child class\n",
    "class Time_Per_Kilimeter(Time_Activite):\n",
    "\n",
    "    def __init__(self, total_kilimeter, time_input):\n",
    "        self.total_kilimeter = total_kilimeter\n",
    "        self.time_input = time_input\n",
    "    \n",
    "    # Method modification\n",
    "    def time(self):\n",
    "        time = (self.time_input * 60)\n",
    "        time = (time / self.total_kilimeter)\n",
    "        time = (time / 60)\n",
    "        \n",
    "        #Note that the results are different, being able to create the same methods more for different behaviors\n",
    "        return f'Your time per kilometer: {time} minutes'\n",
    "    \n",
    "    \n",
    "results = [Total_Time_kilimeter(5, 20), Time_Per_Kilimeter(7, 35)]\n",
    "\n",
    "for result in  results:\n",
    "    print(result.time())"
   ]
  },
  {
   "attachments": {},
   "cell_type": "markdown",
   "metadata": {},
   "source": [
    "-----\n",
    "\n",
    "### Interface"
   ]
  },
  {
   "attachments": {},
   "cell_type": "markdown",
   "metadata": {},
   "source": [
    "A interface na linguagem Python não possui uma estrutura como a linguagem Java para esse tipo de implementação. É normal ser considerada como exemplo de estrutura usando os atributos e métodos, mas não possui sua validação estrita. Observe abaixo as classes Corrida e Mountain Bike. Essas classes estão recebendo no classe de exemplo de uma interface Interface_Sport. Usando a função activate_activity pode usufruir da interface declarada utilizando o método start_activite."
   ]
  },
  {
   "cell_type": "code",
   "execution_count": 141,
   "metadata": {},
   "outputs": [
    {
     "name": "stdout",
     "output_type": "stream",
     "text": [
      "Race start, let's go !!!\n",
      "MTB start, let's go !!!\n"
     ]
    }
   ],
   "source": [
    "class InterfaceSport:\n",
    "    def start_activite(self):\n",
    "        pass\n",
    "    \n",
    "class Run(InterfaceSport):\n",
    "    def start_activite(self):\n",
    "        return \"Race start, let's go !!!\"\n",
    "    \n",
    "class MountainBike(InterfaceSport):\n",
    "    def start_activite(self):\n",
    "        return \"MTB start, let's go !!!\"\n",
    "    \n",
    "def activate_activity(activity):\n",
    "    print(activity.start_activite())\n",
    "    \n",
    "run = Run()\n",
    "mtb = MountainBike()\n",
    "\n",
    "activate_activity(run)\n",
    "activate_activity(mtb)"
   ]
  }
 ],
 "metadata": {
  "kernelspec": {
   "display_name": "env-oo",
   "language": "python",
   "name": "python3"
  },
  "language_info": {
   "codemirror_mode": {
    "name": "ipython",
    "version": 3
   },
   "file_extension": ".py",
   "mimetype": "text/x-python",
   "name": "python",
   "nbconvert_exporter": "python",
   "pygments_lexer": "ipython3",
   "version": "3.10.6"
  },
  "orig_nbformat": 4
 },
 "nbformat": 4,
 "nbformat_minor": 2
}
